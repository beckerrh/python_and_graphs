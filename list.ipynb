{
 "cells": [
  {
   "cell_type": "markdown",
   "id": "9239ba43-2f53-4caf-ab60-55edcb2c95c6",
   "metadata": {},
   "source": [
    "list (symbol []) is \n",
    "   - ordered\n",
    "   - heterogenuous\n",
    "- access operator []\n",
    "- many functions"
   ]
  },
  {
   "cell_type": "code",
   "execution_count": 1,
   "id": "34ff684e-45a2-4f09-9910-f98696bfed26",
   "metadata": {},
   "outputs": [
    {
     "name": "stdout",
     "output_type": "stream",
     "text": [
      "12 [2, 3.1] 3.1\n"
     ]
    }
   ],
   "source": [
    "l = [12, 'abra', [2, 3.1]]\n",
    "print(l[0], l[-1], l[-1][1])"
   ]
  },
  {
   "cell_type": "code",
   "execution_count": 2,
   "id": "6f0b9862-04e7-4d1b-a0d6-87811d034829",
   "metadata": {},
   "outputs": [
    {
     "name": "stdout",
     "output_type": "stream",
     "text": [
      "[2, 3.1] [12, 'abra']\n"
     ]
    }
   ],
   "source": [
    "print(l.pop(), l)"
   ]
  },
  {
   "cell_type": "code",
   "execution_count": 3,
   "id": "cc58b49f-7367-4867-a527-19f35a09c604",
   "metadata": {},
   "outputs": [
    {
     "name": "stdout",
     "output_type": "stream",
     "text": [
      "12 ['abra']\n"
     ]
    }
   ],
   "source": [
    "print(l.pop(0), l)"
   ]
  },
  {
   "cell_type": "code",
   "execution_count": null,
   "id": "9711ec9d-9e4f-4a88-bdd3-327bbd75b4bf",
   "metadata": {},
   "outputs": [],
   "source": []
  }
 ],
 "metadata": {
  "kernelspec": {
   "display_name": "Python 3 (ipykernel)",
   "language": "python",
   "name": "python3"
  },
  "language_info": {
   "codemirror_mode": {
    "name": "ipython",
    "version": 3
   },
   "file_extension": ".py",
   "mimetype": "text/x-python",
   "name": "python",
   "nbconvert_exporter": "python",
   "pygments_lexer": "ipython3",
   "version": "3.12.5"
  }
 },
 "nbformat": 4,
 "nbformat_minor": 5
}
