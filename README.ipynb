{
 "cells": [
  {
   "cell_type": "markdown",
   "id": "9239ba43-2f53-4caf-ab60-55edcb2c95c6",
   "metadata": {},
   "source": [
    "# Summary\n",
    "These notes are for absolute beginners in **python** and **graphs**.\n",
    "\n",
    "We will look at:\n",
    "- list (basic usage)\n",
    "- a graph represented by an edge list\n",
    "- a graph represented by an adjacency list\n",
    "\n",
    "# List (basic usage)\n",
    "- symbol [], elements separated by comma\n",
    "- ordered\n",
    "- heterogenuous ('anything' can be an element)\n",
    "first things to know:\n",
    "- access operator []\n",
    "- many functions like (*pop* *append* ...)"
   ]
  },
  {
   "cell_type": "code",
   "execution_count": 1,
   "id": "9759b99b-9063-41d7-8679-7bb4c562ae40",
   "metadata": {},
   "outputs": [
    {
     "name": "stdout",
     "output_type": "stream",
     "text": [
      "12 [2, 3.1] 3.1\n"
     ]
    }
   ],
   "source": [
    "l = [12, 'abra', [2, 3.1]]\n",
    "print(l[0], l[-1], l[-1][1])"
   ]
  },
  {
   "cell_type": "code",
   "execution_count": 2,
   "id": "c5db7e92-bab0-4966-8acc-321ae81e64a9",
   "metadata": {},
   "outputs": [
    {
     "name": "stdout",
     "output_type": "stream",
     "text": [
      "[2, 3.1] [12, 'abra']\n"
     ]
    }
   ],
   "source": [
    "print(l.pop(), l)"
   ]
  },
  {
   "cell_type": "code",
   "execution_count": 3,
   "id": "48bbfac5-c111-43c6-b649-b40cf5b2ec76",
   "metadata": {},
   "outputs": [
    {
     "name": "stdout",
     "output_type": "stream",
     "text": [
      "12 ['abra']\n"
     ]
    }
   ],
   "source": [
    "print(l.pop(0), l)"
   ]
  },
  {
   "cell_type": "code",
   "execution_count": null,
   "id": "255965b6-6ac2-4055-be2c-2b13620a6e3b",
   "metadata": {},
   "outputs": [],
   "source": []
  }
 ],
 "metadata": {
  "kernelspec": {
   "display_name": "Python 3 (ipykernel)",
   "language": "python",
   "name": "python3"
  },
  "language_info": {
   "codemirror_mode": {
    "name": "ipython",
    "version": 3
   },
   "file_extension": ".py",
   "mimetype": "text/x-python",
   "name": "python",
   "nbconvert_exporter": "python",
   "pygments_lexer": "ipython3",
   "version": "3.12.5"
  }
 },
 "nbformat": 4,
 "nbformat_minor": 5
}
