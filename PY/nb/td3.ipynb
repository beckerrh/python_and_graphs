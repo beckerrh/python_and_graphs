{
 "cells": [
  {
   "cell_type": "markdown",
   "id": "976d61fd-13b4-4d0e-84cf-9a3da4eefd6a",
   "metadata": {},
   "source": [
    "**Exercice 1**"
   ]
  },
  {
   "cell_type": "code",
   "execution_count": 7,
   "id": "9e6f1b3c-8591-4bc5-a520-d174429de96c",
   "metadata": {},
   "outputs": [
    {
     "name": "stdout",
     "output_type": "stream",
     "text": [
      "d={0: 3, -1: 8, -2: 17, -3: 23, -4: 18, -5: 13, -6: 11, -7: 6, -8: 2} \n",
      "sorted(d.items())=[(-8, 2), (-7, 6), (-6, 11), (-5, 13), (-4, 18), (-3, 23), (-2, 17), (-1, 8), (0, 3)]\n"
     ]
    }
   ],
   "source": [
    "import marche_alea\n",
    "\n",
    "x = marche_alea.marche(100)\n",
    "d = {}\n",
    "for xe in x:\n",
    "    if xe in d.keys():\n",
    "        d[xe] += 1\n",
    "    else:\n",
    "        d[xe] = 1\n",
    "\n",
    "print(f\"{d=} \\n{sorted(d.items())=}\")"
   ]
  },
  {
   "cell_type": "markdown",
   "id": "aac13980-3b2b-4a45-865e-f21e1742b8b0",
   "metadata": {},
   "source": [
    "**Exercice 3**\n",
    "On peut utiliser l'exercice 1. **numpy** nous donne une autre possibilité. On peut donc comparer.\n",
    "Quelques remarques :\n",
    "- *sorted(d.items())* est une **list**, on convertit on **dict**\n",
    "- la fonction **np.histogram()** prend un argument 'bins' (les paliers), qui est en général le nombre de 'bins' souhaités. Cela suffit en général, mais ici on veut avoir avec le premier résultat.\n",
    "- la fonction **np.histogram()** rend deux arguments : les fréquences et les intervalles "
   ]
  },
  {
   "cell_type": "code",
   "execution_count": 18,
   "id": "fa654b89-39b0-4845-bb99-be76ac55fb68",
   "metadata": {},
   "outputs": [
    {
     "name": "stdout",
     "output_type": "stream",
     "text": [
      "d={-6: 2, -5: 6, -4: 8, -3: 6, -2: 9, -1: 15, 0: 19, 1: 18, 2: 11, 3: 5, 4: 2}\n",
      "d={-6: 2, -5: 6, -4: 8, -3: 6, -2: 9, -1: 15, 0: 19, 1: 18, 2: 11, 3: 5, 4: 2}\n",
      "h=(array([ 2,  6,  8,  6,  9, 15, 19, 18, 11,  5,  2]), array([-6.        , -5.09090909, -4.18181818, -3.27272727, -2.36363636,\n",
      "       -1.45454545, -0.54545455,  0.36363636,  1.27272727,  2.18181818,\n",
      "        3.09090909,  4.        ]))\n"
     ]
    }
   ],
   "source": [
    "import marche_alea\n",
    "import numpy as np\n",
    "\n",
    "def hist_dict(x):\n",
    "    d = {}\n",
    "    for xe in x:\n",
    "        if xe in d.keys():\n",
    "            d[xe] += 1\n",
    "        else:\n",
    "            d[xe] = 1\n",
    "    return dict(sorted(d.items()))\n",
    "\n",
    "def hist_np(x, bins):\n",
    "    h = np.histogram(x, bins=bins)\n",
    "    return h\n",
    "\n",
    "x = marche_alea.marche(100)\n",
    "d = hist_dict(x)\n",
    "print(f\"{d=}\")\n",
    "h = hist_np(x, len(d.keys()))\n",
    "print(f\"{d=}\\n{h=}\")"
   ]
  },
  {
   "cell_type": "markdown",
   "id": "20765f7a-34e5-46b6-83fb-327735d2777e",
   "metadata": {},
   "source": [
    "**Exercice 4**"
   ]
  },
  {
   "cell_type": "code",
   "execution_count": 21,
   "id": "5f266df4-0def-431f-abc7-8d32b351ec3b",
   "metadata": {},
   "outputs": [
    {
     "name": "stdout",
     "output_type": "stream",
     "text": [
      "G=(5, [(0, 1), (2, 1), (3, 2), (4, 3), (0, 4), (1, 4), (2, 0), (4, 2)])\n",
      "G2=(5, [(0, 1), (1, 0), (2, 1), (1, 2), (3, 2), (2, 3), (4, 3), (3, 4), (0, 4), (4, 0), (1, 4), (4, 1), (2, 0), (0, 2), (4, 2), (2, 4)])\n"
     ]
    }
   ],
   "source": [
    "def graphe_cours():\n",
    "    E = [(0,1), (2,1), (3,2), (4,3), (0,4), (1,4), (2,0), (4,2)]\n",
    "    return 5, E\n",
    "\n",
    "def graphe_complet(n):\n",
    "    E = []\n",
    "    for i in range(n):\n",
    "        for j in range(n):\n",
    "            if i != j:\n",
    "                E.append((i,j))\n",
    "                E.append((j,i))\n",
    "    return n, E\n",
    "\n",
    "def construit_graphe_nonoriente(G):\n",
    "    n, E = G[0], G[1]\n",
    "    E2 = []\n",
    "    for e in E:\n",
    "        E2.append((e[0], e[1]))\n",
    "        E2.append((e[1], e[0]))\n",
    "    return n, E2\n",
    "\n",
    "G = graphe_cours()\n",
    "G2 = construit_graphe_nonoriente(G)\n",
    "print(f\"{G=}\\n{G2=}\")"
   ]
  },
  {
   "cell_type": "code",
   "execution_count": 22,
   "id": "7e2e9e6d-b0ab-44a9-961b-105b1356e44a",
   "metadata": {},
   "outputs": [
    {
     "name": "stdout",
     "output_type": "stream",
     "text": [
      "G=(5, [(0, 1), (2, 1), (3, 2), (4, 3), (0, 4), (1, 4), (2, 0), (4, 2)])\n",
      "A=[[1, 4], [4], [1, 0], [2], [3, 2]]\n"
     ]
    }
   ],
   "source": [
    "def liste_adjacence(G):\n",
    "    n, E = G[0], G[1]\n",
    "    a = [[] for i in range(n)]\n",
    "    for e in E:\n",
    "        a[e[0]].append(e[1])\n",
    "    return a\n",
    "\n",
    "G = graphe_cours()\n",
    "A = liste_adjacence(G)\n",
    "print(f\"{G=}\\n{A=}\")"
   ]
  },
  {
   "cell_type": "code",
   "execution_count": null,
   "id": "20ea1ac1-9649-42b2-b36e-dfec3fe75fef",
   "metadata": {},
   "outputs": [],
   "source": []
  }
 ],
 "metadata": {
  "kernelspec": {
   "display_name": "Python 3 (ipykernel)",
   "language": "python",
   "name": "python3"
  },
  "language_info": {
   "codemirror_mode": {
    "name": "ipython",
    "version": 3
   },
   "file_extension": ".py",
   "mimetype": "text/x-python",
   "name": "python",
   "nbconvert_exporter": "python",
   "pygments_lexer": "ipython3",
   "version": "3.12.5"
  }
 },
 "nbformat": 4,
 "nbformat_minor": 5
}
