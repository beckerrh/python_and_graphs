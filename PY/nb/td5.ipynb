{
 "cells": [
  {
   "cell_type": "markdown",
   "id": "976d61fd-13b4-4d0e-84cf-9a3da4eefd6a",
   "metadata": {},
   "source": [
    "**Exercice 1**"
   ]
  },
  {
   "cell_type": "markdown",
   "id": "aac13980-3b2b-4a45-865e-f21e1742b8b0",
   "metadata": {},
   "source": [
    "**Exercice 2**"
   ]
  }
 ],
 "metadata": {
  "kernelspec": {
   "display_name": "Python 3 (ipykernel)",
   "language": "python",
   "name": "python3"
  },
  "language_info": {
   "codemirror_mode": {
    "name": "ipython",
    "version": 3
   },
   "file_extension": ".py",
   "mimetype": "text/x-python",
   "name": "python",
   "nbconvert_exporter": "python",
   "pygments_lexer": "ipython3",
   "version": "3.12.5"
  }
 },
 "nbformat": 4,
 "nbformat_minor": 5
}
