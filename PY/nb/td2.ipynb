{
 "cells": [
  {
   "cell_type": "markdown",
   "id": "976d61fd-13b4-4d0e-84cf-9a3da4eefd6a",
   "metadata": {},
   "source": [
    "**Exercice 2**\n",
    "\n",
    "Il y a plusieurs façon d'obteint les digits. Ici, on convertir d'abord en *str*.\n",
    "- On utilise la comprehension de list: au lieu d'écrire une boucle et insérer on utilise une boucle dans la construction de la liste"
   ]
  },
  {
   "cell_type": "code",
   "execution_count": 11,
   "id": "70b614ab-0869-45b3-abcc-8bc771f35443",
   "metadata": {},
   "outputs": [
    {
     "name": "stdout",
     "output_type": "stream",
     "text": [
      "a=4733 d=[4, 7, 3, 3]\n"
     ]
    }
   ],
   "source": [
    "import random\n",
    "\n",
    "a = random.randint(1000,9999)\n",
    "d = [int(i) for i in str(a)]\n",
    "\"\"\" équivalent à\n",
    "d = []\n",
    "for i in str(a):\n",
    "    d.append(int(i)\n",
    "\"\"\"\n",
    "print(f\"{a=} {d=}\")"
   ]
  },
  {
   "cell_type": "markdown",
   "id": "79b77e90-2e16-4845-af8a-7edd2e4a8513",
   "metadata": {},
   "source": [
    "On va donc crééer une liste avec 50 nombre aléatoires."
   ]
  },
  {
   "cell_type": "code",
   "execution_count": 12,
   "id": "e8bba5bf-c141-4b6c-861c-d7368c9a5a0f",
   "metadata": {},
   "outputs": [
    {
     "name": "stdout",
     "output_type": "stream",
     "text": [
      "[-6, -12, 19, 15, 8, 17, 10, -10, -14, 1, 5, -19, -4, 0, 7, -13, 7, 1, -14, 15, -8, -9, -5, -4, -16, 5, 1, 10, 4, 10, 18, 1, -8, -17, -7, -16, -18, 8, -20, -8, 17, -20, -13, -8, -1, 9, -1, -20, 7, -2]\n"
     ]
    }
   ],
   "source": [
    "na = [random.randint(-20,20) for i in range(50)]\n",
    "print(na)    "
   ]
  },
  {
   "cell_type": "markdown",
   "id": "f67dffa1-340c-413b-9f91-c4ef1162d111",
   "metadata": {},
   "source": [
    "Combien de nombres difféernts ?"
   ]
  },
  {
   "cell_type": "code",
   "execution_count": 13,
   "id": "b458fade-b314-4957-b132-eea93dea0f7d",
   "metadata": {},
   "outputs": [
    {
     "name": "stdout",
     "output_type": "stream",
     "text": [
      "29\n"
     ]
    }
   ],
   "source": [
    "print(len(set(na)))"
   ]
  },
  {
   "cell_type": "markdown",
   "id": "879b112c-18f8-451d-8e16-4fbf8d1b8cc3",
   "metadata": {},
   "source": [
    "Pour la suite, nos 'expériences', on va d'abord mettre notre code en une fonction.\n",
    "Ensuite on calculer les espérances."
   ]
  },
  {
   "cell_type": "code",
   "execution_count": 14,
   "id": "84a370eb-d813-4da2-ab2e-5f9963131135",
   "metadata": {},
   "outputs": [
    {
     "name": "stdout",
     "output_type": "stream",
     "text": [
      "n=10 esp=29.2\n",
      "n=20 esp=29.35\n",
      "n=40 esp=29.2\n",
      "n=80 esp=29.25\n"
     ]
    }
   ],
   "source": [
    "def nbdiff():\n",
    "    na = [random.randint(-20,20) for i in range(50)]\n",
    "    return len(set(na))\n",
    "\n",
    "for n in [10,20,40,80]:\n",
    "    vals = [nbdiff() for i in range(n)]\n",
    "    esp = sum(vals)/n\n",
    "    print(f\"{n=} {esp=}\")"
   ]
  },
  {
   "cell_type": "markdown",
   "id": "aac13980-3b2b-4a45-865e-f21e1742b8b0",
   "metadata": {},
   "source": [
    "**Exercice 3**\n",
    "\n",
    "On rappelle que dans l'exercice 6 du TD 1 nous avons créé un fichier 'poker.py' qui contient les fonctions pour distribuer les cartes. "
   ]
  },
  {
   "cell_type": "code",
   "execution_count": 28,
   "id": "b8d3797b-748f-465b-9b57-85aabf08e54e",
   "metadata": {},
   "outputs": [
    {
     "name": "stdout",
     "output_type": "stream",
     "text": [
      "jeu=['CA', 'CK', 'CD', 'CJ', 'C0', 'C2', 'C3', 'C4', 'C5', 'C6', 'C7', 'C8', 'C9', 'PA', 'PK', 'PD', 'PJ', 'P0', 'P2', 'P3', 'P4', 'P5', 'P6', 'P7', 'P8', 'P9', 'TA', 'TK', 'TD', 'TJ', 'T0', 'T2', 'T3', 'T4', 'T5', 'T6', 'T7', 'T8', 'T9', 'KA', 'KK', 'KD', 'KJ', 'K0', 'K2', 'K3', 'K4', 'K5', 'K6', 'K7', 'K8', 'K9']\n",
      "[['C5', 'PD', 'C4', 'P3', 'P2'], ['T7', 'P0', 'KA', 'PA', 'K0'], ['TD', 'T8', 'K8', 'PK', 'C0']]\n",
      "['C5', 'PD', 'C4', 'P3', 'P2']\n",
      "['5', 'D', '4', '3', '2']\n"
     ]
    }
   ],
   "source": [
    "import poker\n",
    "jeux = poker.distribuer_cartes(3)\n",
    "print(jeux)\n",
    "jeu = jeux[0]\n",
    "print(jeu)\n",
    "coul = [c[0] for c in jeu]\n",
    "val = [c[1] for c in jeu]\n",
    "print(val)"
   ]
  },
  {
   "cell_type": "markdown",
   "id": "a31bdd37-d701-45ad-be89-ec230ac5f5e0",
   "metadata": {},
   "source": [
    "Maintenant on écrit une fonction pour trouver les fréquences (paires, brelans, carrés). Il y a différentes façon de faire cela. Ici, on utiliser un dictionnaire pour conter. "
   ]
  },
  {
   "cell_type": "code",
   "execution_count": 29,
   "id": "ee5c1abb-f9ba-42c9-8b2c-7659c95e4d89",
   "metadata": {},
   "outputs": [
    {
     "name": "stdout",
     "output_type": "stream",
     "text": [
      "{'5': 1, 'D': 1, '4': 1, '3': 1, '2': 1}\n",
      "{'7': 1, '0': 2, 'A': 2}\n",
      "{'D': 1, '8': 2, 'K': 1, '0': 1}\n"
     ]
    }
   ],
   "source": [
    "def frequences(valeurs):\n",
    "    d = {}\n",
    "    for v in valeurs:\n",
    "        if v in d.keys():\n",
    "            d[v] += 1\n",
    "        else:\n",
    "            d[v] = 1\n",
    "    return d\n",
    "\n",
    "for jeu in jeux:\n",
    "    val = [c[1] for c in jeu] \n",
    "    print(frequences(val))"
   ]
  },
  {
   "cell_type": "markdown",
   "id": "af1b0255-ffad-4f98-9bd3-0a65b645b02e",
   "metadata": {},
   "source": [
    "Maintenant on peut écrire un fonction qui évalue un jeu donné. Encore une fois, il y a maintes faàon de faire. Ici, on va faire un peu plus que ce qui est demandé. Dans le cas d'un brelan, on distingue le cas dans lequel on a aussi une paire (\"full house\"). Et puis, on détermine les différents types de cartes. Pour cela, on crée un autre *dictionnaire*, qui donne pour chaque fréquence (entre 1 et 4) un *set* contenant les valeurs.\n",
    "\n",
    "Quelques explications techniques:\n",
    "- on n'a pas besoin d'utiliser **elif** et **else**, car la fonction quitte avec **return**"
   ]
  },
  {
   "cell_type": "code",
   "execution_count": 34,
   "id": "f9ed98bd-8826-4f3c-bd1c-5a11ef67981c",
   "metadata": {},
   "outputs": [
    {
     "name": "stdout",
     "output_type": "stream",
     "text": [
      "valeur de ['C5', 'PD', 'C4', 'P3', 'P2'] : HighCard\n",
      "valeur de ['T7', 'P0', 'KA', 'PA', 'K0'] : TwoPairs de 0A\n",
      "valeur de ['TD', 'T8', 'K8', 'PK', 'C0'] : Pair de 8\n"
     ]
    }
   ],
   "source": [
    "def evaluer(jeu):\n",
    "    val = [c[1] for c in jeu]\n",
    "    d = frequences(val)\n",
    "    e = {1:[], 2:[], 3:[], 4:[]}\n",
    "    for k,v in d.items():\n",
    "        e[v].append(k)\n",
    "    if len(e[4]):\n",
    "        return \"Carré \" + \"de \" + e[4][0]\n",
    "    if len(e[3]):\n",
    "        if len(e[2]):\n",
    "            return \"FullHouse \" + \"de \" + e[3][0] + e[2][0]\n",
    "        else:\n",
    "            return \"Brelan \" + \"de \" + e[3][0]\n",
    "    if len(e[2])==2:\n",
    "        return \"TwoPairs \" + \"de \" + e[2][0] + e[2][1]\n",
    "    if len(e[2])==1:\n",
    "        return \"Pair \" + \"de \" + e[2][0]\n",
    "    return \"HighCard\"\n",
    "\n",
    "for jeu in jeux:\n",
    "    print(f\"valeur de {jeu} : {evaluer(jeu)}\")"
   ]
  },
  {
   "cell_type": "markdown",
   "id": "891bcb08-717d-4c82-b866-14c3728aff7e",
   "metadata": {},
   "source": [
    "**Exercice 5**\n",
    "\n",
    "On a $x_0=0$ et ensuite $$x_{i+1}=x_i + X_i$$.\n",
    "On utilise la formule du cours pour créer la marche aléatoire. Notre fonction prend deux arguments : le nombre de pas et la probabilité. \n",
    "- Pour permettre $p\\ne0.5$ on utilise *random.binomialvariate* au lieu de *random.randint*.\n",
    "- On utilise un argument avec valeur par défault, ce qui facilite l'utilisation"
   ]
  },
  {
   "cell_type": "code",
   "execution_count": 41,
   "id": "5dc03037-76fb-4c56-bc02-22fb5e475dfb",
   "metadata": {},
   "outputs": [
    {
     "name": "stdout",
     "output_type": "stream",
     "text": [
      "[0, 1, 2, 1, 0, -1, 0, 1, 0, 1, 2, 3, 2, 3, 4, 3, 2, 1, 0, 1, 2, 1, 2, 3, 4, 5, 4, 3, 4, 3, 2, 1, 2, 1, 2, 1, 2, 3, 4, 3, 2, 3, 4, 3, 2, 3, 2, 1, 2, 3, 4, 5, 4, 5, 4, 5, 4, 5, 6, 5, 4, 3, 2, 1, 0, -1, 0, 1, 0, 1, 0, 1, 2, 1, 0, -1, 0, -1, -2, -3, -2, -3, -4, -3, -2, -1, 0, -1, -2, -1, -2, -1, 0, 1, 2, 3, 4, 5, 4, 5, 4]\n"
     ]
    }
   ],
   "source": [
    "import random\n",
    "\n",
    "def marche(n, p=0.5):\n",
    "    x = [0]\n",
    "    for i in range(n):\n",
    "#        X = 2*random.randint(0,1)-1\n",
    "        X = 2*random.binomialvariate(n=1, p=p)-1\n",
    "        x.append(x[-1] + X)\n",
    "    return x\n",
    "\n",
    "print(marche(100))"
   ]
  },
  {
   "cell_type": "markdown",
   "id": "829d51bd-4f1f-4347-9027-e278c1a189b5",
   "metadata": {},
   "source": [
    "Finalement, pour la variante, on utilise **%** (modulo). Il faut faire un peu attention : $\\%n$ identifie $n$ avec $0$, alors on va d'abord décaler notre intervalle $[-M,M[$ à $[0,2M[$. Après le modulo on revient. "
   ]
  },
  {
   "cell_type": "code",
   "execution_count": 44,
   "id": "60647144-7f39-4fd2-bfe8-1648ec188722",
   "metadata": {},
   "outputs": [
    {
     "name": "stdout",
     "output_type": "stream",
     "text": [
      "-10 -9 -10 9\n"
     ]
    }
   ],
   "source": [
    "M = 10\n",
    "def mod(x,M=10):\n",
    "    return (x+M)%(2*M)-M\n",
    "print(mod(10), mod(11), mod(-10), mod(-11))\n"
   ]
  },
  {
   "cell_type": "code",
   "execution_count": 48,
   "id": "fcb82a5f-7a23-493f-b218-aba48b1dc153",
   "metadata": {},
   "outputs": [
    {
     "name": "stdout",
     "output_type": "stream",
     "text": [
      "[0, -1, 0, 1, 2, 3, 4, -5, -4, -3, -2, -1, 0, 1, 2, 3, 4, -5, -4, -5, -4, -5, -4, -3, -4, -3, -2, -1, 0, 1, 2, 3, 4, -5, -4, -3, -4, -3, -2, -1, 0, 1, 2, 3, 4, -5, -4, -5, -4, -3, -2, -1, 0, -1, 0, 1, 2, 3, 4, -5, 4, 3, 4, -5, -4, -3, -2, -1, 0, 1, 2, 3, 4, -5, -4, -5, -4, -3, -2, -3, -4, -3, -2, -1, 0, 1, 0, -1, -2, -1, 0, -1, 0, -1, 0, 1, 2, 3, 4, -5, -4]\n"
     ]
    }
   ],
   "source": [
    "def marche_cercle(n, p=0.5, M=10):\n",
    "    x = [0]\n",
    "    for i in range(n):\n",
    "        X = 2*random.binomialvariate(n=1, p=p)-1\n",
    "        xn = (x[-1] + X + M)%(2*M)-M\n",
    "        x.append(xn)\n",
    "    return x\n",
    "    \n",
    "print(marche_cercle(100, p=0.8, M=5))"
   ]
  },
  {
   "cell_type": "code",
   "execution_count": null,
   "id": "b9dcfffa-f89e-443c-ab95-bbbb32d9c7b5",
   "metadata": {},
   "outputs": [],
   "source": []
  }
 ],
 "metadata": {
  "kernelspec": {
   "display_name": "Python 3 (ipykernel)",
   "language": "python",
   "name": "python3"
  },
  "language_info": {
   "codemirror_mode": {
    "name": "ipython",
    "version": 3
   },
   "file_extension": ".py",
   "mimetype": "text/x-python",
   "name": "python",
   "nbconvert_exporter": "python",
   "pygments_lexer": "ipython3",
   "version": "3.12.5"
  }
 },
 "nbformat": 4,
 "nbformat_minor": 5
}
