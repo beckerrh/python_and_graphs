{
 "cells": [
  {
   "cell_type": "markdown",
   "id": "786b2461-41a1-4ce6-bc9e-99df5013cbe0",
   "metadata": {},
   "source": [
    "**Exercice 1**\n",
    "\n",
    "- il ne faut oublier de convertir le retour (qui est toujours un **str**)\n",
    "- pour accéder à $\\pi$ on peut utiliser la librairie *math*\n",
    "- la division '/' est touours convertie en float; pour la divsion entière on utilise '//' et '%' pour le reste de la division. Ainsi euclide s'écrit comme $$ n = m//p + m\\%p$$ \n"
   ]
  },
  {
   "cell_type": "code",
   "execution_count": null,
   "id": "8109a1ff-8c41-4ede-8755-7251678ee0e5",
   "metadata": {},
   "outputs": [],
   "source": [
    "import math\n",
    "\n",
    "res = input(\"Donnez-moi le rayon svp !\")\n",
    "peri = 2*math.pi*float(res)\n",
    "print(f\"Le périmètre est {peri}\")"
   ]
  },
  {
   "cell_type": "markdown",
   "id": "e18730f4-ea9c-4839-afda-a614df271dd3",
   "metadata": {},
   "source": [
    "Pour analyser si un nombre est premier ... il suffit d'essayer. Comment peut-on améliorer le code suivant ?"
   ]
  },
  {
   "cell_type": "code",
   "execution_count": null,
   "id": "ba3afa1d-d22f-4f20-bd68-ebb7b4d43304",
   "metadata": {},
   "outputs": [],
   "source": [
    "def est_premier(n):\n",
    "    for k in range(2,n):\n",
    "        if n%k == 0:\n",
    "            return False, k\n",
    "    return True, 0\n",
    "\n",
    "res = input(\"Donnez-moi un entier svp !\")\n",
    "n = int(res)\n",
    "prem, k = est_premier(n)\n",
    "if prem:\n",
    "    print(f\"Le nombre {n} est premier\")\n",
    "else:\n",
    "   print(f\"Le nombre {n} n'est pas premier, car divisible par {k}\") "
   ]
  },
  {
   "cell_type": "markdown",
   "id": "976d61fd-13b4-4d0e-84cf-9a3da4eefd6a",
   "metadata": {},
   "source": [
    "**Exercice 2**"
   ]
  },
  {
   "cell_type": "code",
   "execution_count": 17,
   "id": "4d6ecddb-598e-411a-a242-04c47060a02d",
   "metadata": {},
   "outputs": [
    {
     "name": "stdout",
     "output_type": "stream",
     "text": [
      "z\n",
      "zyxwvutsrqponmlkjihgfedcba\n",
      "efgh\n",
      "uvwx\n",
      "vwxyz\n",
      "fhjlnprtvxz\n",
      "yvspmjgd\n"
     ]
    }
   ],
   "source": [
    "import string\n",
    "a = string.ascii_lowercase\n",
    "print(a[-1])\n",
    "print(a[::-1])\n",
    "print(a[4:8])\n",
    "print(a[-6:-2])\n",
    "print(a[-5:])\n",
    "print(a[5::2])\n",
    "print(a[-2:2:-3])"
   ]
  },
  {
   "cell_type": "markdown",
   "id": "d7fe805b-e28f-40b8-9cf6-5692693477d6",
   "metadata": {},
   "source": [
    "**Exercice 5**\n",
    "\n",
    "Une liste est ordonnée et peut contenir des doublons. \n",
    "Une façon de répondre est de crééer une nouvelle liste avec les élements uniques.\n",
    "\n",
    "Prenons cet exemple pour montrer comment on peut développer une fonction.\n",
    "- d'abord on prend un exemple"
   ]
  },
  {
   "cell_type": "code",
   "execution_count": 1,
   "id": "d05dbb4a-8ab8-4649-a1ee-7e3d37504216",
   "metadata": {},
   "outputs": [
    {
     "name": "stdout",
     "output_type": "stream",
     "text": [
      "lu=[1, 3, 7, 'a', 'b'] len(l)=6 len(lu)=5\n"
     ]
    }
   ],
   "source": [
    "l = [1, 3, 7 , 'a', 3, 'b']\n",
    "lu = []\n",
    "for le in l:\n",
    "    if not le in lu:\n",
    "        lu.append(le)\n",
    "print(f\"{lu=} {len(l)=} {len(lu)=}\")"
   ]
  },
  {
   "cell_type": "code",
   "execution_count": 6,
   "id": "3ae603b0-bcd0-4f56-8c97-5036ce85846b",
   "metadata": {},
   "outputs": [
    {
     "name": "stdout",
     "output_type": "stream",
     "text": [
      "(False, [1, 3, 7, 'a', 'b'])\n"
     ]
    }
   ],
   "source": [
    "def is_set(l):\n",
    "    lu = []\n",
    "    for le in l:\n",
    "        if le not in lu:\n",
    "            lu.append(le)\n",
    "    return len(l)==len(lu), lu\n",
    "\n",
    "#test\n",
    "print(is_set(l))"
   ]
  },
  {
   "cell_type": "markdown",
   "id": "8011f4b2-297f-4934-81c5-655d7d42cbdf",
   "metadata": {},
   "source": [
    "Maintenant on va écrire une fonction pour la différence. On utilise la fonction précédente, mais nous n'avons besoin que la deuxième valeur de retour."
   ]
  },
  {
   "cell_type": "code",
   "execution_count": 8,
   "id": "f74a1128-9639-42f1-b0b8-5099acd8ef12",
   "metadata": {},
   "outputs": [
    {
     "name": "stdout",
     "output_type": "stream",
     "text": [
      "[5, 7]\n"
     ]
    }
   ],
   "source": [
    "def difference_listes(l1, l2):\n",
    "    l = []\n",
    "    for el in l1:\n",
    "        if el not in l2:\n",
    "            l.append(el)\n",
    "    return is_set(l)[1]\n",
    "\n",
    "#test\n",
    "print(difference_listes([1,2,3,1,5,7,7], [1,2,3]))"
   ]
  },
  {
   "cell_type": "markdown",
   "id": "2c86949c-7c66-4c1b-a476-da1c0e87b6fc",
   "metadata": {},
   "source": [
    "En utilsant les *set* c'est bien plus facile !"
   ]
  },
  {
   "cell_type": "code",
   "execution_count": 11,
   "id": "0d408c66-f5f1-4068-b50e-03c30e9131a0",
   "metadata": {},
   "outputs": [
    {
     "name": "stdout",
     "output_type": "stream",
     "text": [
      "l1 est unique ? False\n",
      "difference : {5, 7}\n"
     ]
    }
   ],
   "source": [
    "l1, l2 = [1,2,3,1,5,7,7], [1,2,3]\n",
    "print(f\"l1 est unique ? {len(l1)==len(set(l1))}\")\n",
    "print(f\"difference : {set(l1).difference(l2)}\")"
   ]
  },
  {
   "cell_type": "markdown",
   "id": "d98733e2-8b8c-4857-a39e-7f456d6d1aae",
   "metadata": {},
   "source": [
    "**Exercice 6 (Poker 1)** \n",
    "\n",
    "On utilise\n",
    "- pour le couleurs : 'C': coeur, 'P': pique, 'T': trèfles, 'K': caro\n",
    "- pour les valeurs : 'AKDJ023456789' : '0' pour 10, 'A' pour l'as\n",
    "\n",
    "Ensuite on crée le jeu de carte, et puis on le distribue avec *shuffle*."
   ]
  },
  {
   "cell_type": "code",
   "execution_count": 2,
   "id": "e279b4a6-9fee-4206-a587-e27281de095a",
   "metadata": {},
   "outputs": [
    {
     "name": "stdout",
     "output_type": "stream",
     "text": [
      "joueurs 0 : ['PK', 'P3', 'P2', 'T8', 'C0']\n",
      "joueurs 1 : ['P8', 'K7', 'CJ', 'TK', 'P0']\n",
      "joueurs 2 : ['KK', 'C4', 'CK', 'K0', 'T5']\n",
      "joueurs 3 : ['C7', 'K5', 'P4', 'KA', 'T0']\n"
     ]
    }
   ],
   "source": [
    "import random\n",
    "\n",
    "couleurs = 'CPTK'\n",
    "valeurs = 'AKDJ023456789'\n",
    "\n",
    "jeu = []\n",
    "for c in couleurs:\n",
    "    for v in valeurs:\n",
    "        jeu.append(c+v)\n",
    "random.shuffle(jeu)\n",
    "\n",
    "njoueurs = 4\n",
    "jeux_joueurs = []\n",
    "for i in range(njoueurs):\n",
    "    jeux_joueurs.append([jeu.pop() for j in range(5)])\n",
    "\n",
    "for i, jeu in enumerate(jeux_joueurs):\n",
    "    print(f\"joueurs {i} : {jeu}\")"
   ]
  },
  {
   "cell_type": "markdown",
   "id": "2ad0c73f-1f05-46c5-ba38-d6b2ac09b2fc",
   "metadata": {},
   "source": [
    "Maintenant on va creer des fonctions et on met notre code dans un fichier 'poker.py' de sorte que l'on pourra l'utiliser ultérierement. Voici le contenu du ficihier:"
   ]
  },
  {
   "cell_type": "code",
   "execution_count": 1,
   "id": "ad53132d-df58-4a9a-8ce7-215e5a07cb67",
   "metadata": {},
   "outputs": [],
   "source": [
    "import random\n",
    "\n",
    "couleurs = 'CPTK'\n",
    "valeurs = 'AKDJ023456789'\n",
    "\n",
    "def creer_jeu():\n",
    "    jeu = []\n",
    "    for c in couleurs:\n",
    "        for v in valeurs:\n",
    "            jeu.append(c+v)\n",
    "    print(f\"{jeu=}\")\n",
    "    random.shuffle(jeu)\n",
    "    return jeu\n",
    "\n",
    "def distribuer_cartes(njoueurs):\n",
    "    jeu = creer_jeu()\n",
    "    jeux_joueurs = []\n",
    "    for i in range(njoueurs):\n",
    "        jeux_joueurs.append([jeu.pop() for j in range(5)])\n",
    "    return jeux_joueurs"
   ]
  },
  {
   "cell_type": "markdown",
   "id": "aac13980-3b2b-4a45-865e-f21e1742b8b0",
   "metadata": {},
   "source": [
    "**Exercice 7**\n",
    "Un dictionnaire correspond à une application injective, si deux clés différentes sont associées à deux valeurs différentes. Il suffit de voir, si le valeurs sont deux à deux différentes. On peut alors faire comme dans l'exercice 5.\n"
   ]
  },
  {
   "cell_type": "code",
   "execution_count": 21,
   "id": "873e5a0d-555e-43a4-83e8-2d29c1240b93",
   "metadata": {},
   "outputs": [
    {
     "name": "stdout",
     "output_type": "stream",
     "text": [
      "True\n",
      "False\n"
     ]
    }
   ],
   "source": [
    "def dict_injectif(d):\n",
    "    return len(set(d.values()))==len(d.values())\n",
    "\n",
    "d = {}\n",
    "d[1] = 'a'\n",
    "d[2] = 'c'\n",
    "# on aurait pu écrire d = {1:'a', 2:'c'}\n",
    "print(dict_injectif(d))\n",
    "d[3] = 'a'\n",
    "print(dict_injectif(d))"
   ]
  },
  {
   "cell_type": "markdown",
   "id": "f2b19478-5752-4645-9c46-8a1f69f37ab7",
   "metadata": {},
   "source": [
    "On construit l'application inverse en inversant clé et valeur. On rajoute un petit test pour savoir, si ça marche."
   ]
  },
  {
   "cell_type": "code",
   "execution_count": 24,
   "id": "eca84532-fbf8-4897-96ed-8b93b0ae29bd",
   "metadata": {},
   "outputs": [
    {
     "name": "stdout",
     "output_type": "stream",
     "text": [
      "dictionary not injectif : {1: 'a', 2: 'c', 3: 'a'}\n",
      "{'a': 3, 'c': 2}\n",
      "{'a': 1, 'c': 2}\n"
     ]
    }
   ],
   "source": [
    "def dict_inverse(d):\n",
    "    di = {}\n",
    "    for k,v in d.items():\n",
    "        di[v] = k\n",
    "    if len(di) != len(d):\n",
    "        print(f\"dictionary not injectif : {d}\")\n",
    "    return di\n",
    "print(dict_inverse(d))\n",
    "print(dict_inverse({1:'a', 2:'c'}))"
   ]
  },
  {
   "cell_type": "code",
   "execution_count": null,
   "id": "fe149958-1fc5-4377-9faf-d1496ec973af",
   "metadata": {},
   "outputs": [],
   "source": []
  }
 ],
 "metadata": {
  "kernelspec": {
   "display_name": "Python 3 (ipykernel)",
   "language": "python",
   "name": "python3"
  },
  "language_info": {
   "codemirror_mode": {
    "name": "ipython",
    "version": 3
   },
   "file_extension": ".py",
   "mimetype": "text/x-python",
   "name": "python",
   "nbconvert_exporter": "python",
   "pygments_lexer": "ipython3",
   "version": "3.12.5"
  }
 },
 "nbformat": 4,
 "nbformat_minor": 5
}
